{
 "cells": [
  {
   "cell_type": "markdown",
   "id": "5a46cb72",
   "metadata": {},
   "source": [
    "# NumPy\n"
   ]
  },
  {
   "cell_type": "markdown",
   "id": "54309c77",
   "metadata": {},
   "source": [
    "* NumPy is a Linear Algebra Library for Python, the reason it is so important for Data Science with Python is that almost all of the libraries in the PyData Ecosystem rely on NumPy as one of their main building blocks.\n",
    "* NumPy is also incredibly fast, as it has bindings to C libraries.\n",
    "\n",
    "\n",
    "* Numpy arrays essentially come in two flavors: vectors and matrices.\n",
    "* Vectors are strictly 1-d arrays and matrices are 2-d (but you should note a matrix can still have only one row or one column).\n",
    "\n",
    "\n",
    "1-d =>     ( )\n",
    "\n",
    "2-d =>   ( ( ) )\n",
    "\n",
    "3-d => ( ( ( ) ) )"
   ]
  },
  {
   "cell_type": "markdown",
   "id": "a9ed84a5",
   "metadata": {},
   "source": [
    "## NumPy Arrays"
   ]
  },
  {
   "cell_type": "code",
   "execution_count": 1,
   "id": "544a7f95",
   "metadata": {},
   "outputs": [],
   "source": [
    "my_list = [1,2,3]"
   ]
  },
  {
   "cell_type": "code",
   "execution_count": 2,
   "id": "69a07169",
   "metadata": {},
   "outputs": [
    {
     "data": {
      "text/plain": [
       "[1, 2, 3]"
      ]
     },
     "execution_count": 2,
     "metadata": {},
     "output_type": "execute_result"
    }
   ],
   "source": [
    "my_list"
   ]
  },
  {
   "cell_type": "code",
   "execution_count": 3,
   "id": "0c860a96",
   "metadata": {},
   "outputs": [],
   "source": [
    "import numpy as np"
   ]
  },
  {
   "cell_type": "code",
   "execution_count": 6,
   "id": "31649a0c",
   "metadata": {},
   "outputs": [
    {
     "data": {
      "text/plain": [
       "array([1, 2, 3])"
      ]
     },
     "execution_count": 6,
     "metadata": {},
     "output_type": "execute_result"
    }
   ],
   "source": [
    "arr=np.array(my_list)\n",
    "arr"
   ]
  },
  {
   "cell_type": "code",
   "execution_count": 7,
   "id": "c67b24d6",
   "metadata": {},
   "outputs": [
    {
     "data": {
      "text/plain": [
       "array([[1, 2, 3],\n",
       "       [4, 5, 6],\n",
       "       [7, 8, 9]])"
      ]
     },
     "execution_count": 7,
     "metadata": {},
     "output_type": "execute_result"
    }
   ],
   "source": [
    "my_mat = [[1,2,3],[4,5,6],[7,8,9]]\n",
    "np.array(my_mat)"
   ]
  },
  {
   "cell_type": "code",
   "execution_count": 9,
   "id": "294efef1",
   "metadata": {},
   "outputs": [
    {
     "data": {
      "text/plain": [
       "array([ 0,  2,  4,  6,  8, 10])"
      ]
     },
     "execution_count": 9,
     "metadata": {},
     "output_type": "execute_result"
    }
   ],
   "source": [
    "# arange() function in numpy like as range function in arrays.\n",
    "np.arange(0,11,2)"
   ]
  },
  {
   "cell_type": "code",
   "execution_count": 11,
   "id": "8c5a3ba3",
   "metadata": {},
   "outputs": [
    {
     "data": {
      "text/plain": [
       "array([0., 0., 0.])"
      ]
     },
     "execution_count": 11,
     "metadata": {},
     "output_type": "execute_result"
    }
   ],
   "source": [
    "# this command is use to make array of zeros.\n",
    "np.zeros(3)"
   ]
  },
  {
   "cell_type": "code",
   "execution_count": 15,
   "id": "379c269f",
   "metadata": {},
   "outputs": [
    {
     "data": {
      "text/plain": [
       "array([[0., 0., 0.],\n",
       "       [0., 0., 0.]])"
      ]
     },
     "execution_count": 15,
     "metadata": {},
     "output_type": "execute_result"
    }
   ],
   "source": [
    "np.zeros((2,3))"
   ]
  },
  {
   "cell_type": "code",
   "execution_count": 21,
   "id": "3cea07ae",
   "metadata": {},
   "outputs": [
    {
     "data": {
      "text/plain": [
       "array([[1., 1., 1.],\n",
       "       [1., 1., 1.]])"
      ]
     },
     "execution_count": 21,
     "metadata": {},
     "output_type": "execute_result"
    }
   ],
   "source": [
    "np.ones((2,3))"
   ]
  },
  {
   "cell_type": "code",
   "execution_count": 22,
   "id": "13463025",
   "metadata": {},
   "outputs": [
    {
     "data": {
      "text/plain": [
       "array([0.        , 0.55555556, 1.11111111, 1.66666667, 2.22222222,\n",
       "       2.77777778, 3.33333333, 3.88888889, 4.44444444, 5.        ])"
      ]
     },
     "execution_count": 22,
     "metadata": {},
     "output_type": "execute_result"
    }
   ],
   "source": [
    "# linspace command give random point between the two values.\n",
    "np.linspace(0,5,10)"
   ]
  },
  {
   "cell_type": "code",
   "execution_count": 25,
   "id": "eb30bd31",
   "metadata": {},
   "outputs": [
    {
     "data": {
      "text/plain": [
       "array([  0.        ,  22.11111111,  44.22222222,  66.33333333,\n",
       "        88.44444444, 110.55555556, 132.66666667, 154.77777778,\n",
       "       176.88888889, 199.        ])"
      ]
     },
     "execution_count": 25,
     "metadata": {},
     "output_type": "execute_result"
    }
   ],
   "source": [
    "np.linspace(0,199,10)"
   ]
  },
  {
   "cell_type": "code",
   "execution_count": 30,
   "id": "62ce4b1a",
   "metadata": {},
   "outputs": [
    {
     "data": {
      "text/plain": [
       "array([[1., 0., 0., 0.],\n",
       "       [0., 1., 0., 0.],\n",
       "       [0., 0., 1., 0.],\n",
       "       [0., 0., 0., 1.]])"
      ]
     },
     "execution_count": 30,
     "metadata": {},
     "output_type": "execute_result"
    }
   ],
   "source": [
    "# It's call identity matrix. it's give same no. rows and columns.\n",
    "# It must be square of any value\n",
    "np.eye(4)"
   ]
  },
  {
   "cell_type": "code",
   "execution_count": 34,
   "id": "1f0de232",
   "metadata": {},
   "outputs": [
    {
     "data": {
      "text/plain": [
       "array([[0.79826243, 0.53664507],\n",
       "       [0.28096628, 0.51627747],\n",
       "       [0.63530188, 0.67269774],\n",
       "       [0.63611597, 0.55371524],\n",
       "       [0.43137208, 0.08223435]])"
      ]
     },
     "execution_count": 34,
     "metadata": {},
     "output_type": "execute_result"
    }
   ],
   "source": [
    "# This command give random value\n",
    "np.random.rand(5,2)"
   ]
  },
  {
   "cell_type": "code",
   "execution_count": 36,
   "id": "bb9677a6",
   "metadata": {},
   "outputs": [
    {
     "data": {
      "text/plain": [
       "array([[ 0.09484128, -1.6710976 ,  1.34514496, -3.29710726],\n",
       "       [-0.58331116,  0.36354367, -0.23259911,  0.21287343],\n",
       "       [-1.10858151,  0.14399298, -1.34493342,  0.10675621],\n",
       "       [ 0.70220619,  0.77927897,  0.6309316 , -1.34085662]])"
      ]
     },
     "execution_count": 36,
     "metadata": {},
     "output_type": "execute_result"
    }
   ],
   "source": [
    "np.random.randn(4,4)"
   ]
  },
  {
   "cell_type": "code",
   "execution_count": 38,
   "id": "cce865e8",
   "metadata": {},
   "outputs": [
    {
     "data": {
      "text/plain": [
       "array([32, 96, 30, 91, 85, 53, 28, 88, 62, 66])"
      ]
     },
     "execution_count": 38,
     "metadata": {},
     "output_type": "execute_result"
    }
   ],
   "source": [
    "# This command give random interger value between two points.\n",
    "np.random.randint(1,100,10)"
   ]
  },
  {
   "cell_type": "code",
   "execution_count": 47,
   "id": "2e59caaa",
   "metadata": {},
   "outputs": [
    {
     "data": {
      "text/plain": [
       "array([ 0,  2,  4,  6,  8, 10, 12, 14, 16, 18, 20, 22, 24, 26, 28, 30, 32,\n",
       "       34, 36, 38, 40, 42, 44, 46, 48])"
      ]
     },
     "execution_count": 47,
     "metadata": {},
     "output_type": "execute_result"
    }
   ],
   "source": [
    "arr = np.arange(0,50,2)\n",
    "arr"
   ]
  },
  {
   "cell_type": "code",
   "execution_count": 42,
   "id": "3d615329",
   "metadata": {},
   "outputs": [
    {
     "data": {
      "text/plain": [
       "array([29, 29, 41, 49,  8, 44, 45, 34, 46, 33,  5, 12, 45,  6, 21, 10, 42,\n",
       "       22, 49, 20, 31,  4, 31, 29, 48])"
      ]
     },
     "execution_count": 42,
     "metadata": {},
     "output_type": "execute_result"
    }
   ],
   "source": [
    "arrr=np.random.randint(0,50,25)\n",
    "arrr"
   ]
  },
  {
   "cell_type": "code",
   "execution_count": 48,
   "id": "9dc09569",
   "metadata": {},
   "outputs": [
    {
     "data": {
      "text/plain": [
       "array([[ 0,  2,  4,  6,  8],\n",
       "       [10, 12, 14, 16, 18],\n",
       "       [20, 22, 24, 26, 28],\n",
       "       [30, 32, 34, 36, 38],\n",
       "       [40, 42, 44, 46, 48]])"
      ]
     },
     "execution_count": 48,
     "metadata": {},
     "output_type": "execute_result"
    }
   ],
   "source": [
    "# this command change the diamentions of array\n",
    "arr.reshape(5,5)"
   ]
  },
  {
   "cell_type": "code",
   "execution_count": 49,
   "id": "16f3bbde",
   "metadata": {},
   "outputs": [
    {
     "data": {
      "text/plain": [
       "array([29, 29, 41, 49,  8, 44, 45, 34, 46, 33,  5, 12, 45,  6, 21, 10, 42,\n",
       "       22, 49, 20, 31,  4, 31, 29, 48])"
      ]
     },
     "execution_count": 49,
     "metadata": {},
     "output_type": "execute_result"
    }
   ],
   "source": [
    "arrr"
   ]
  },
  {
   "cell_type": "code",
   "execution_count": 51,
   "id": "258d51b9",
   "metadata": {},
   "outputs": [
    {
     "data": {
      "text/plain": [
       "49"
      ]
     },
     "execution_count": 51,
     "metadata": {},
     "output_type": "execute_result"
    }
   ],
   "source": [
    "# min() command use to take min value from array as well as max\n",
    "arrr.min()\n",
    "arrr.max()"
   ]
  },
  {
   "cell_type": "code",
   "execution_count": 54,
   "id": "e2c36a93",
   "metadata": {},
   "outputs": [
    {
     "name": "stdout",
     "output_type": "stream",
     "text": [
      "3\n",
      "21\n"
     ]
    }
   ],
   "source": [
    "# argmax() command show the index location of max value and min value as well\n",
    "print(arrr.argmax())\n",
    "print(arrr.argmin())"
   ]
  },
  {
   "cell_type": "code",
   "execution_count": 56,
   "id": "84e6896a",
   "metadata": {},
   "outputs": [
    {
     "data": {
      "text/plain": [
       "(25,)"
      ]
     },
     "execution_count": 56,
     "metadata": {},
     "output_type": "execute_result"
    }
   ],
   "source": [
    "# shape command use to check shape of the array\n",
    "arr.shape"
   ]
  },
  {
   "cell_type": "code",
   "execution_count": 57,
   "id": "d5c29e10",
   "metadata": {},
   "outputs": [
    {
     "data": {
      "text/plain": [
       "array([[ 0,  2,  4,  6,  8],\n",
       "       [10, 12, 14, 16, 18],\n",
       "       [20, 22, 24, 26, 28],\n",
       "       [30, 32, 34, 36, 38],\n",
       "       [40, 42, 44, 46, 48]])"
      ]
     },
     "execution_count": 57,
     "metadata": {},
     "output_type": "execute_result"
    }
   ],
   "source": [
    "arr.reshape(5,5)"
   ]
  },
  {
   "cell_type": "code",
   "execution_count": 58,
   "id": "27fc8773",
   "metadata": {},
   "outputs": [
    {
     "data": {
      "text/plain": [
       "dtype('int64')"
      ]
     },
     "execution_count": 58,
     "metadata": {},
     "output_type": "execute_result"
    }
   ],
   "source": [
    "arr.dtype"
   ]
  },
  {
   "cell_type": "code",
   "execution_count": 59,
   "id": "ebbf58e2",
   "metadata": {},
   "outputs": [],
   "source": [
    "from numpy.random import randint"
   ]
  },
  {
   "cell_type": "code",
   "execution_count": 61,
   "id": "ade33ed7",
   "metadata": {},
   "outputs": [
    {
     "data": {
      "text/plain": [
       "array([8, 3, 7, 3, 3])"
      ]
     },
     "execution_count": 61,
     "metadata": {},
     "output_type": "execute_result"
    }
   ],
   "source": [
    "randint(2,10,5)"
   ]
  },
  {
   "cell_type": "code",
   "execution_count": 3,
   "id": "1409c762",
   "metadata": {},
   "outputs": [],
   "source": [
    "import numpy as np\n",
    "\n",
    "# Define the sigmoid activation function\n",
    "def sigmoid(x):\n",
    "    return 1 / (1 + np.exp(-x))\n",
    "\n",
    "# Define the derivative of the sigmoid function\n",
    "def sigmoid_derivative(x):\n",
    "    return x * (1 - x)\n",
    "\n",
    "# Define the XOR function\n",
    "def xor_function(x1, x2):\n",
    "    return x1 ^ x2\n",
    "\n",
    "# Define the neural network class\n",
    "class XORNeuralNetwork:\n",
    "    def __init__(self):\n",
    "        # Initialize the weights with random values\n",
    "        self.weights1 = np.random.rand(2, 2)\n",
    "        self.weights2 = np.random.rand(2, 1)\n",
    "        self.bias1 = np.random.rand(1, 2)\n",
    "        self.bias2 = np.random.rand(1, 1)\n",
    "\n",
    "    def feed_forward(self, inputs):\n",
    "        # Calculate the values of the hidden layer\n",
    "        self.hidden_layer = sigmoid(np.dot(inputs, self.weights1) + self.bias1)\n",
    "\n",
    "        # Calculate the output layer\n",
    "        self.output = sigmoid(np.dot(self.hidden_layer, self.weights2) + self.bias2)\n",
    "\n",
    "        return self.output\n",
    "\n",
    "    def backpropagation(self, inputs, targets, learning_rate):\n",
    "        # Perform feed-forward\n",
    "        self.feed_forward(inputs)\n",
    "\n",
    "        # Calculate the error in the output layer\n",
    "        output_error = targets - self.output\n",
    "        output_delta = output_error * sigmoid_derivative(self.output)\n",
    "\n",
    "        # Calculate the error in the hidden layer\n",
    "        hidden_error = np.dot(output_delta, self.weights2.T)\n",
    "        hidden_delta = hidden_error * sigmoid_derivative(self.hidden_layer)\n",
    "\n",
    "        # Update the weights and biases\n",
    "        self.weights2 += np.dot(self.hidden_layer.T, output_delta) * learning_rate\n",
    "        self.bias2 += np.sum(output_delta, axis=0, keepdims=True) * learning_rate\n",
    "        self.weights1 += np.dot(inputs.T, hidden_delta) * learning_rate\n",
    "        self.bias1 += np.sum(hidden_delta, axis=0, keepdims=True) * learning_rate\n",
    "\n",
    "    def train(self, inputs, targets, epochs, learning_rate):\n",
    "        for epoch in range(epochs):\n",
    "            self.backpropagation(inputs, targets, learning_rate)\n",
    "\n",
    "    def predict(self, inputs):\n",
    "        return np.round(self.feed_forward(inputs))\n",
    "\n",
    "# Define the XOR inputs and targets\n",
    "xor_inputs = np.array([[0, 0],\n",
    "                       [0, 1],\n",
    "                       [1, 0],\n",
    "                       [1, 1]])\n",
    "\n",
    "xor_targets = np.array([[xor_function(0, 0)],\n",
    "                        [xor_function(0, 1)],\n",
    "                        [xor_function(1, 0)],\n",
    "                        [xor_function(1, 1)]])\n",
    "\n",
    "# Create a XOR neural network\n",
    "xor_nn = XORNeuralNetwork()\n",
    "\n"
   ]
  },
  {
   "cell_type": "code",
   "execution_count": null,
   "id": "92c15d05",
   "metadata": {},
   "outputs": [],
   "source": [
    "import numpy as np\n",
    "\n",
    "# Define the sigmoid activation function\n",
    "def sigmoid(x):\n",
    " return 1 / (1 + np.exp(-x))\n",
    "\n",
    "# Define the derivative of the sigmoid function\n",
    "def sigmoid_derivative(x):\n",
    " return x * (1 - x)\n",
    "# Define the XOR function dataset\n",
    "X = np.array([[0, 0], [0, 1], [1, 0], [1, 1]])\n",
    "y = np.array([[0], [1], [1], [0]])\n",
    "# Set the random seed for reproducibility\n",
    "np.random.seed(42)\n",
    "# Initialize the weights and biases with random values\n",
    "weights1 = np.random.rand(2, 2)\n",
    "bias1 = np.random.rand(1, 2)\n",
    "weights2 = np.random.rand(2, 1)\n",
    "bias2 = np.random.rand(1, 1)\n",
    "# Set the learning rate and number of iterations\n",
    "learning_rate = 0.1\n",
    "num_iterations = 10000\n",
    "# Training loop\n",
    "for iteration in range(num_iterations):\n",
    " # Forward propagation\n",
    " layer1_output = sigmoid(np.dot(X, weights1) + bias1)\n",
    " layer2_output = sigmoid(np.dot(layer1_output, weights2) + bias2)\u0000\n",
    "\n",
    " # Backpropagation\n",
    " layer2_error = y - layer2_output\n",
    " layer2_delta = layer2_error * sigmoid_derivative(layer2_output)\n",
    " layer1_error = np.dot(layer2_delta, weights2.T)\n",
    " layer1_delta = layer1_error * sigmoid_derivative(layer1_output)\n",
    " # Update weights and biases\n",
    " weights2 += np.dot(layer1_output.T, layer2_delta) * learning_rate\n",
    " bias2 += np.sum(layer2_delta, axis=0, keepdims=True) * learning_rate\n",
    " weights1 += np.dot(X.T, layer1_delta) * learning_rate\n",
    " bias1 += np.sum(layer1_delta, axis=0, keepdims=True) * learning_rate\n",
    "# Test the trained network\n",
    "test_output = sigmoid(np.dot(sigmoid(np.dot(X, weights1) + bias1), weights2) + bias2)\n",
    "print(\"Predicted Output:\")\n",
    "print(test_output.round())"
   ]
  },
  {
   "cell_type": "code",
   "execution_count": null,
   "id": "17700c84",
   "metadata": {},
   "outputs": [],
   "source": []
  }
 ],
 "metadata": {
  "kernelspec": {
   "display_name": "Python 3",
   "language": "python",
   "name": "python3"
  },
  "language_info": {
   "codemirror_mode": {
    "name": "ipython",
    "version": 3
   },
   "file_extension": ".py",
   "mimetype": "text/x-python",
   "name": "python",
   "nbconvert_exporter": "python",
   "pygments_lexer": "ipython3",
   "version": "3.8.8"
  }
 },
 "nbformat": 4,
 "nbformat_minor": 5
}
