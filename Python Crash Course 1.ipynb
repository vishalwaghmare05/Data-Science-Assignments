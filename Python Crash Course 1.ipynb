{
 "cells": [
  {
   "cell_type": "markdown",
   "id": "9c55cecd",
   "metadata": {},
   "source": [
    "# Topics Covere\n",
    "## Data Types \n",
    "\n",
    "* Numbers\n",
    "* Strings\n",
    "* Print Formatting\n",
    "* Lists\n",
    "* Dictionaries\n",
    "* Booleans\n",
    "* Tupples and Sets (immutable)\n",
    "\n",
    "\n",
    "+ Comparison Operators\n",
    "+ If, elif, and Statement\n",
    "+ For Loops\n",
    "+ While Loops\n",
    "+ range()\n",
    "+ List Comprehension\n",
    "+ Functions\n",
    "+ Lambda Expressions\n",
    "\n"
   ]
  },
  {
   "cell_type": "markdown",
   "id": "aed7741f",
   "metadata": {},
   "source": [
    "## Numbers"
   ]
  },
  {
   "cell_type": "code",
   "execution_count": 1,
   "id": "6629160b",
   "metadata": {},
   "outputs": [
    {
     "data": {
      "text/plain": [
       "1"
      ]
     },
     "execution_count": 1,
     "metadata": {},
     "output_type": "execute_result"
    }
   ],
   "source": [
    "1"
   ]
  },
  {
   "cell_type": "code",
   "execution_count": 2,
   "id": "27565b12",
   "metadata": {},
   "outputs": [
    {
     "data": {
      "text/plain": [
       "1.0"
      ]
     },
     "execution_count": 2,
     "metadata": {},
     "output_type": "execute_result"
    }
   ],
   "source": [
    "1.0"
   ]
  },
  {
   "cell_type": "code",
   "execution_count": 3,
   "id": "5816543d",
   "metadata": {},
   "outputs": [
    {
     "data": {
      "text/plain": [
       "2"
      ]
     },
     "execution_count": 3,
     "metadata": {},
     "output_type": "execute_result"
    }
   ],
   "source": [
    "1+1"
   ]
  },
  {
   "cell_type": "code",
   "execution_count": 4,
   "id": "a325df12",
   "metadata": {},
   "outputs": [
    {
     "data": {
      "text/plain": [
       "3"
      ]
     },
     "execution_count": 4,
     "metadata": {},
     "output_type": "execute_result"
    }
   ],
   "source": [
    "1 * 3"
   ]
  },
  {
   "cell_type": "code",
   "execution_count": 5,
   "id": "e277c8c4",
   "metadata": {},
   "outputs": [
    {
     "data": {
      "text/plain": [
       "0.5"
      ]
     },
     "execution_count": 5,
     "metadata": {},
     "output_type": "execute_result"
    }
   ],
   "source": [
    "1/2.0"
   ]
  },
  {
   "cell_type": "code",
   "execution_count": 6,
   "id": "b1b4d086",
   "metadata": {},
   "outputs": [
    {
     "data": {
      "text/plain": [
       "16"
      ]
     },
     "execution_count": 6,
     "metadata": {},
     "output_type": "execute_result"
    }
   ],
   "source": [
    "2 ** 4"
   ]
  },
  {
   "cell_type": "code",
   "execution_count": 7,
   "id": "f0ec1125",
   "metadata": {},
   "outputs": [
    {
     "data": {
      "text/plain": [
       "22"
      ]
     },
     "execution_count": 7,
     "metadata": {},
     "output_type": "execute_result"
    }
   ],
   "source": [
    "2 + 3 * 5 +5"
   ]
  },
  {
   "cell_type": "code",
   "execution_count": 8,
   "id": "2468ff7c",
   "metadata": {},
   "outputs": [
    {
     "data": {
      "text/plain": [
       "50"
      ]
     },
     "execution_count": 8,
     "metadata": {},
     "output_type": "execute_result"
    }
   ],
   "source": [
    "(2+3) * (5+5)"
   ]
  },
  {
   "cell_type": "code",
   "execution_count": 9,
   "id": "f55ad380",
   "metadata": {},
   "outputs": [
    {
     "data": {
      "text/plain": [
       "0"
      ]
     },
     "execution_count": 9,
     "metadata": {},
     "output_type": "execute_result"
    }
   ],
   "source": [
    "4 % 2"
   ]
  },
  {
   "cell_type": "code",
   "execution_count": 10,
   "id": "ddc0ed71",
   "metadata": {},
   "outputs": [
    {
     "data": {
      "text/plain": [
       "1"
      ]
     },
     "execution_count": 10,
     "metadata": {},
     "output_type": "execute_result"
    }
   ],
   "source": [
    "5 % 2"
   ]
  },
  {
   "cell_type": "code",
   "execution_count": 11,
   "id": "71dcd52a",
   "metadata": {},
   "outputs": [
    {
     "data": {
      "text/plain": [
       "0"
      ]
     },
     "execution_count": 11,
     "metadata": {},
     "output_type": "execute_result"
    }
   ],
   "source": [
    "8 % 2"
   ]
  },
  {
   "cell_type": "code",
   "execution_count": 12,
   "id": "48e4826b",
   "metadata": {},
   "outputs": [],
   "source": [
    "var = 2"
   ]
  },
  {
   "cell_type": "code",
   "execution_count": 13,
   "id": "5e591ed8",
   "metadata": {},
   "outputs": [
    {
     "data": {
      "text/plain": [
       "2"
      ]
     },
     "execution_count": 13,
     "metadata": {},
     "output_type": "execute_result"
    }
   ],
   "source": [
    "var"
   ]
  },
  {
   "cell_type": "code",
   "execution_count": 14,
   "id": "2716bc3b",
   "metadata": {},
   "outputs": [],
   "source": [
    "x = 2"
   ]
  },
  {
   "cell_type": "code",
   "execution_count": 15,
   "id": "9d99101d",
   "metadata": {},
   "outputs": [],
   "source": [
    "y =3\n"
   ]
  },
  {
   "cell_type": "code",
   "execution_count": 16,
   "id": "d5874990",
   "metadata": {},
   "outputs": [
    {
     "data": {
      "text/plain": [
       "5"
      ]
     },
     "execution_count": 16,
     "metadata": {},
     "output_type": "execute_result"
    }
   ],
   "source": [
    "x+y"
   ]
  },
  {
   "cell_type": "code",
   "execution_count": 17,
   "id": "c832715b",
   "metadata": {},
   "outputs": [],
   "source": [
    "x = x+x"
   ]
  },
  {
   "cell_type": "code",
   "execution_count": 18,
   "id": "ca96d32b",
   "metadata": {},
   "outputs": [
    {
     "data": {
      "text/plain": [
       "4"
      ]
     },
     "execution_count": 18,
     "metadata": {},
     "output_type": "execute_result"
    }
   ],
   "source": [
    "x"
   ]
  },
  {
   "cell_type": "code",
   "execution_count": 19,
   "id": "3830e9cd",
   "metadata": {},
   "outputs": [],
   "source": [
    "x=x+x"
   ]
  },
  {
   "cell_type": "code",
   "execution_count": 20,
   "id": "ee680657",
   "metadata": {},
   "outputs": [
    {
     "data": {
      "text/plain": [
       "8"
      ]
     },
     "execution_count": 20,
     "metadata": {},
     "output_type": "execute_result"
    }
   ],
   "source": [
    "x"
   ]
  },
  {
   "cell_type": "code",
   "execution_count": 21,
   "id": "204ea74f",
   "metadata": {},
   "outputs": [],
   "source": [
    "x+=x"
   ]
  },
  {
   "cell_type": "code",
   "execution_count": 22,
   "id": "29c1aca6",
   "metadata": {},
   "outputs": [
    {
     "data": {
      "text/plain": [
       "16"
      ]
     },
     "execution_count": 22,
     "metadata": {},
     "output_type": "execute_result"
    }
   ],
   "source": [
    "x"
   ]
  },
  {
   "cell_type": "code",
   "execution_count": 23,
   "id": "6799865d",
   "metadata": {},
   "outputs": [],
   "source": [
    "name_of_var = 12"
   ]
  },
  {
   "cell_type": "code",
   "execution_count": 24,
   "id": "67887e57",
   "metadata": {},
   "outputs": [
    {
     "data": {
      "text/plain": [
       "12"
      ]
     },
     "execution_count": 24,
     "metadata": {},
     "output_type": "execute_result"
    }
   ],
   "source": [
    "name_of_var"
   ]
  },
  {
   "cell_type": "markdown",
   "id": "d95e694d",
   "metadata": {},
   "source": [
    "## Strings (immutable)"
   ]
  },
  {
   "cell_type": "code",
   "execution_count": 25,
   "id": "2ef4755e",
   "metadata": {},
   "outputs": [
    {
     "data": {
      "text/plain": [
       "'single quote'"
      ]
     },
     "execution_count": 25,
     "metadata": {},
     "output_type": "execute_result"
    }
   ],
   "source": [
    "'single quote'"
   ]
  },
  {
   "cell_type": "code",
   "execution_count": 26,
   "id": "46f9749c",
   "metadata": {},
   "outputs": [
    {
     "data": {
      "text/plain": [
       "'this is string'"
      ]
     },
     "execution_count": 26,
     "metadata": {},
     "output_type": "execute_result"
    }
   ],
   "source": [
    "\"this is string\""
   ]
  },
  {
   "cell_type": "code",
   "execution_count": 27,
   "id": "09283815",
   "metadata": {},
   "outputs": [
    {
     "data": {
      "text/plain": [
       "\"I can't go\""
      ]
     },
     "execution_count": 27,
     "metadata": {},
     "output_type": "execute_result"
    }
   ],
   "source": [
    "\"I can't go\""
   ]
  },
  {
   "cell_type": "code",
   "execution_count": 28,
   "id": "ead44181",
   "metadata": {},
   "outputs": [],
   "source": [
    "x = \"hello\""
   ]
  },
  {
   "cell_type": "code",
   "execution_count": 29,
   "id": "9ff192ff",
   "metadata": {},
   "outputs": [
    {
     "data": {
      "text/plain": [
       "'hello'"
      ]
     },
     "execution_count": 29,
     "metadata": {},
     "output_type": "execute_result"
    }
   ],
   "source": [
    "x"
   ]
  },
  {
   "cell_type": "markdown",
   "id": "500fc3ed",
   "metadata": {},
   "source": [
    "## Print Formatting"
   ]
  },
  {
   "cell_type": "code",
   "execution_count": 30,
   "id": "b5219294",
   "metadata": {},
   "outputs": [
    {
     "name": "stdout",
     "output_type": "stream",
     "text": [
      "hello\n"
     ]
    }
   ],
   "source": [
    "print(x)"
   ]
  },
  {
   "cell_type": "code",
   "execution_count": 31,
   "id": "7a8dc73d",
   "metadata": {},
   "outputs": [],
   "source": [
    "num = 12 \n",
    "name = \"Sam\""
   ]
  },
  {
   "cell_type": "code",
   "execution_count": 32,
   "id": "88aa8748",
   "metadata": {},
   "outputs": [
    {
     "data": {
      "text/plain": [
       "'My number is 12 and my name is Sam'"
      ]
     },
     "execution_count": 32,
     "metadata": {},
     "output_type": "execute_result"
    }
   ],
   "source": [
    "'My number is {} and my name is {}'.format(num,name)"
   ]
  },
  {
   "cell_type": "code",
   "execution_count": 33,
   "id": "0db48add",
   "metadata": {},
   "outputs": [
    {
     "name": "stdout",
     "output_type": "stream",
     "text": [
      "My number is 12 and my name is Sam, more 12\n"
     ]
    }
   ],
   "source": [
    "print(f'My number is {num} and my name is {name}, more {num}')"
   ]
  },
  {
   "cell_type": "code",
   "execution_count": 34,
   "id": "31b10083",
   "metadata": {},
   "outputs": [],
   "source": [
    "s = 'hello'"
   ]
  },
  {
   "cell_type": "code",
   "execution_count": 35,
   "id": "3cb57bb4",
   "metadata": {},
   "outputs": [
    {
     "data": {
      "text/plain": [
       "'e'"
      ]
     },
     "execution_count": 35,
     "metadata": {},
     "output_type": "execute_result"
    }
   ],
   "source": [
    "s[1]"
   ]
  },
  {
   "cell_type": "code",
   "execution_count": 36,
   "id": "1df67a9b",
   "metadata": {},
   "outputs": [
    {
     "data": {
      "text/plain": [
       "'h'"
      ]
     },
     "execution_count": 36,
     "metadata": {},
     "output_type": "execute_result"
    }
   ],
   "source": [
    "s[0]"
   ]
  },
  {
   "cell_type": "code",
   "execution_count": 37,
   "id": "57c278ab",
   "metadata": {},
   "outputs": [
    {
     "name": "stdout",
     "output_type": "stream",
     "text": [
      "o\n"
     ]
    }
   ],
   "source": [
    "print(s[4])"
   ]
  },
  {
   "cell_type": "code",
   "execution_count": 38,
   "id": "acbfcb8b",
   "metadata": {},
   "outputs": [
    {
     "data": {
      "text/plain": [
       "'l'"
      ]
     },
     "execution_count": 38,
     "metadata": {},
     "output_type": "execute_result"
    }
   ],
   "source": [
    "s[-2]"
   ]
  },
  {
   "cell_type": "code",
   "execution_count": 39,
   "id": "b1f19b93",
   "metadata": {},
   "outputs": [
    {
     "data": {
      "text/plain": [
       "'ell'"
      ]
     },
     "execution_count": 39,
     "metadata": {},
     "output_type": "execute_result"
    }
   ],
   "source": [
    "s[1:4]"
   ]
  },
  {
   "cell_type": "code",
   "execution_count": 40,
   "id": "0ad0f9b6",
   "metadata": {},
   "outputs": [],
   "source": [
    "s = 'abcdefghijklmnopqrstuvwxyz'"
   ]
  },
  {
   "cell_type": "code",
   "execution_count": 41,
   "id": "48f8f1e0",
   "metadata": {},
   "outputs": [
    {
     "data": {
      "text/plain": [
       "'abcdefghijklmnopqrstuvwxyz'"
      ]
     },
     "execution_count": 41,
     "metadata": {},
     "output_type": "execute_result"
    }
   ],
   "source": [
    "s[0:]"
   ]
  },
  {
   "cell_type": "code",
   "execution_count": 42,
   "id": "be9db5a7",
   "metadata": {},
   "outputs": [
    {
     "data": {
      "text/plain": [
       "'abc'"
      ]
     },
     "execution_count": 42,
     "metadata": {},
     "output_type": "execute_result"
    }
   ],
   "source": [
    "s[:3]"
   ]
  },
  {
   "cell_type": "code",
   "execution_count": 43,
   "id": "c74725f7",
   "metadata": {},
   "outputs": [
    {
     "data": {
      "text/plain": [
       "'abc'"
      ]
     },
     "execution_count": 43,
     "metadata": {},
     "output_type": "execute_result"
    }
   ],
   "source": [
    "s[0:3]"
   ]
  },
  {
   "cell_type": "code",
   "execution_count": 44,
   "id": "0ef3c360",
   "metadata": {},
   "outputs": [
    {
     "data": {
      "text/plain": [
       "'def'"
      ]
     },
     "execution_count": 44,
     "metadata": {},
     "output_type": "execute_result"
    }
   ],
   "source": [
    "s[3:6]"
   ]
  },
  {
   "cell_type": "markdown",
   "id": "49e276ee",
   "metadata": {},
   "source": [
    " ## List"
   ]
  },
  {
   "cell_type": "code",
   "execution_count": 45,
   "id": "9a5c7f33",
   "metadata": {},
   "outputs": [
    {
     "data": {
      "text/plain": [
       "[1, 2, 3]"
      ]
     },
     "execution_count": 45,
     "metadata": {},
     "output_type": "execute_result"
    }
   ],
   "source": [
    "[1,2,3]"
   ]
  },
  {
   "cell_type": "code",
   "execution_count": 46,
   "id": "52c4a1ed",
   "metadata": {},
   "outputs": [
    {
     "data": {
      "text/plain": [
       "['a', 'b', 'c']"
      ]
     },
     "execution_count": 46,
     "metadata": {},
     "output_type": "execute_result"
    }
   ],
   "source": [
    "['a','b','c']"
   ]
  },
  {
   "cell_type": "code",
   "execution_count": 47,
   "id": "334503db",
   "metadata": {},
   "outputs": [],
   "source": [
    "my_list = ['a','b','c']"
   ]
  },
  {
   "cell_type": "code",
   "execution_count": 48,
   "id": "189566bf",
   "metadata": {},
   "outputs": [],
   "source": [
    "# append method is use to add any element at the end of the list\n",
    "my_list.append('d')"
   ]
  },
  {
   "cell_type": "code",
   "execution_count": 49,
   "id": "ea8a87b6",
   "metadata": {},
   "outputs": [
    {
     "data": {
      "text/plain": [
       "'d'"
      ]
     },
     "execution_count": 49,
     "metadata": {},
     "output_type": "execute_result"
    }
   ],
   "source": [
    "# pop method is use to delete the last element in the list\n",
    "my_list.pop()"
   ]
  },
  {
   "cell_type": "code",
   "execution_count": 50,
   "id": "d8ca0596",
   "metadata": {},
   "outputs": [
    {
     "data": {
      "text/plain": [
       "['a', 'b', 'c']"
      ]
     },
     "execution_count": 50,
     "metadata": {},
     "output_type": "execute_result"
    }
   ],
   "source": [
    "my_list"
   ]
  },
  {
   "cell_type": "code",
   "execution_count": 51,
   "id": "495067d6",
   "metadata": {},
   "outputs": [
    {
     "data": {
      "text/plain": [
       "'a'"
      ]
     },
     "execution_count": 51,
     "metadata": {},
     "output_type": "execute_result"
    }
   ],
   "source": [
    "my_list[0]"
   ]
  },
  {
   "cell_type": "code",
   "execution_count": 52,
   "id": "674425d9",
   "metadata": {},
   "outputs": [
    {
     "data": {
      "text/plain": [
       "['b', 'c']"
      ]
     },
     "execution_count": 52,
     "metadata": {},
     "output_type": "execute_result"
    }
   ],
   "source": [
    "my_list[1:3]"
   ]
  },
  {
   "cell_type": "code",
   "execution_count": 53,
   "id": "1ea29bcf",
   "metadata": {},
   "outputs": [],
   "source": [
    "my_list[0]='NEW'"
   ]
  },
  {
   "cell_type": "code",
   "execution_count": 54,
   "id": "b47611cd",
   "metadata": {},
   "outputs": [
    {
     "data": {
      "text/plain": [
       "['NEW', 'b', 'c']"
      ]
     },
     "execution_count": 54,
     "metadata": {},
     "output_type": "execute_result"
    }
   ],
   "source": [
    "my_list"
   ]
  },
  {
   "cell_type": "code",
   "execution_count": 55,
   "id": "eabaa45a",
   "metadata": {},
   "outputs": [],
   "source": [
    "nest = [1,2,[3,4]]"
   ]
  },
  {
   "cell_type": "code",
   "execution_count": 56,
   "id": "f68f03b9",
   "metadata": {},
   "outputs": [
    {
     "data": {
      "text/plain": [
       "4"
      ]
     },
     "execution_count": 56,
     "metadata": {},
     "output_type": "execute_result"
    }
   ],
   "source": [
    "nest[2][1]"
   ]
  },
  {
   "cell_type": "code",
   "execution_count": 57,
   "id": "7342f392",
   "metadata": {},
   "outputs": [
    {
     "data": {
      "text/plain": [
       "['target']"
      ]
     },
     "execution_count": 57,
     "metadata": {},
     "output_type": "execute_result"
    }
   ],
   "source": [
    "nest=[1,2,3,[4,5,['target']]]\n",
    "nest[3][2]"
   ]
  },
  {
   "cell_type": "code",
   "execution_count": 58,
   "id": "6ed40b29",
   "metadata": {},
   "outputs": [
    {
     "data": {
      "text/plain": [
       "'target'"
      ]
     },
     "execution_count": 58,
     "metadata": {},
     "output_type": "execute_result"
    }
   ],
   "source": [
    "# this 0 use to taget a string \n",
    "nest[3][2][0]"
   ]
  },
  {
   "cell_type": "markdown",
   "id": "f808c27b",
   "metadata": {},
   "source": [
    "## Dictionary"
   ]
  },
  {
   "cell_type": "code",
   "execution_count": 145,
   "id": "9c8b0e73",
   "metadata": {},
   "outputs": [],
   "source": [
    "d = {'Key1':'value','key2':123}"
   ]
  },
  {
   "cell_type": "code",
   "execution_count": 60,
   "id": "b1fa3ec6",
   "metadata": {},
   "outputs": [
    {
     "data": {
      "text/plain": [
       "{'Key1': 'value', 'key2': 123}"
      ]
     },
     "execution_count": 60,
     "metadata": {},
     "output_type": "execute_result"
    }
   ],
   "source": [
    "d"
   ]
  },
  {
   "cell_type": "code",
   "execution_count": 61,
   "id": "28a63a83",
   "metadata": {},
   "outputs": [
    {
     "data": {
      "text/plain": [
       "'value'"
      ]
     },
     "execution_count": 61,
     "metadata": {},
     "output_type": "execute_result"
    }
   ],
   "source": [
    "d['Key1']"
   ]
  },
  {
   "cell_type": "code",
   "execution_count": 62,
   "id": "6f9f5340",
   "metadata": {},
   "outputs": [
    {
     "data": {
      "text/plain": [
       "123"
      ]
     },
     "execution_count": 62,
     "metadata": {},
     "output_type": "execute_result"
    }
   ],
   "source": [
    "d['key2']"
   ]
  },
  {
   "cell_type": "code",
   "execution_count": 63,
   "id": "d88368c8",
   "metadata": {},
   "outputs": [],
   "source": [
    "d = {'Key1':[1,2,3]}"
   ]
  },
  {
   "cell_type": "code",
   "execution_count": 64,
   "id": "d07e1071",
   "metadata": {},
   "outputs": [
    {
     "data": {
      "text/plain": [
       "{'Key1': [1, 2, 3]}"
      ]
     },
     "execution_count": 64,
     "metadata": {},
     "output_type": "execute_result"
    }
   ],
   "source": [
    "d"
   ]
  },
  {
   "cell_type": "code",
   "execution_count": 65,
   "id": "c241c94d",
   "metadata": {},
   "outputs": [
    {
     "data": {
      "text/plain": [
       "2"
      ]
     },
     "execution_count": 65,
     "metadata": {},
     "output_type": "execute_result"
    }
   ],
   "source": [
    "d['Key1'][1]"
   ]
  },
  {
   "cell_type": "code",
   "execution_count": 66,
   "id": "55a70b40",
   "metadata": {},
   "outputs": [],
   "source": [
    "my_list = d['Key1']"
   ]
  },
  {
   "cell_type": "code",
   "execution_count": 67,
   "id": "8f4b49fd",
   "metadata": {},
   "outputs": [
    {
     "data": {
      "text/plain": [
       "1"
      ]
     },
     "execution_count": 67,
     "metadata": {},
     "output_type": "execute_result"
    }
   ],
   "source": [
    "my_list[0]"
   ]
  },
  {
   "cell_type": "code",
   "execution_count": 68,
   "id": "80a72554",
   "metadata": {},
   "outputs": [
    {
     "data": {
      "text/plain": [
       "1"
      ]
     },
     "execution_count": 68,
     "metadata": {},
     "output_type": "execute_result"
    }
   ],
   "source": [
    "d['Key1'][0]"
   ]
  },
  {
   "cell_type": "code",
   "execution_count": 69,
   "id": "ac4b0e10",
   "metadata": {},
   "outputs": [],
   "source": [
    "d = {'k1':{'innerkey':[1,2,3]}}"
   ]
  },
  {
   "cell_type": "code",
   "execution_count": 70,
   "id": "fe9f3fa6",
   "metadata": {},
   "outputs": [
    {
     "data": {
      "text/plain": [
       "{'k1': {'innerkey': [1, 2, 3]}}"
      ]
     },
     "execution_count": 70,
     "metadata": {},
     "output_type": "execute_result"
    }
   ],
   "source": [
    "d"
   ]
  },
  {
   "cell_type": "code",
   "execution_count": 71,
   "id": "8639a455",
   "metadata": {},
   "outputs": [
    {
     "data": {
      "text/plain": [
       "3"
      ]
     },
     "execution_count": 71,
     "metadata": {},
     "output_type": "execute_result"
    }
   ],
   "source": [
    "d['k1']['innerkey'][2]"
   ]
  },
  {
   "cell_type": "code",
   "execution_count": 72,
   "id": "cf702fcc",
   "metadata": {},
   "outputs": [
    {
     "data": {
      "text/plain": [
       "{'innerkey': [1, 2, 3]}"
      ]
     },
     "execution_count": 72,
     "metadata": {},
     "output_type": "execute_result"
    }
   ],
   "source": [
    "d['k1']"
   ]
  },
  {
   "cell_type": "markdown",
   "id": "b3fb6161",
   "metadata": {},
   "source": [
    "## Boolean"
   ]
  },
  {
   "cell_type": "code",
   "execution_count": 73,
   "id": "0b7f3415",
   "metadata": {},
   "outputs": [
    {
     "data": {
      "text/plain": [
       "True"
      ]
     },
     "execution_count": 73,
     "metadata": {},
     "output_type": "execute_result"
    }
   ],
   "source": [
    "True"
   ]
  },
  {
   "cell_type": "code",
   "execution_count": 74,
   "id": "add4fce0",
   "metadata": {},
   "outputs": [
    {
     "data": {
      "text/plain": [
       "False"
      ]
     },
     "execution_count": 74,
     "metadata": {},
     "output_type": "execute_result"
    }
   ],
   "source": [
    "False"
   ]
  },
  {
   "cell_type": "code",
   "execution_count": 75,
   "id": "092e522e",
   "metadata": {},
   "outputs": [],
   "source": [
    "my_list = [1,2,3]"
   ]
  },
  {
   "cell_type": "code",
   "execution_count": 76,
   "id": "768b7c6b",
   "metadata": {},
   "outputs": [
    {
     "data": {
      "text/plain": [
       "1"
      ]
     },
     "execution_count": 76,
     "metadata": {},
     "output_type": "execute_result"
    }
   ],
   "source": [
    "my_list[0]"
   ]
  },
  {
   "cell_type": "markdown",
   "id": "1dbb326e",
   "metadata": {},
   "source": [
    "## Tuple (ordered list, immutable)"
   ]
  },
  {
   "cell_type": "code",
   "execution_count": 77,
   "id": "c5982bce",
   "metadata": {},
   "outputs": [],
   "source": [
    "t = (1,2,3)"
   ]
  },
  {
   "cell_type": "code",
   "execution_count": 78,
   "id": "81ee04d4",
   "metadata": {},
   "outputs": [
    {
     "data": {
      "text/plain": [
       "1"
      ]
     },
     "execution_count": 78,
     "metadata": {},
     "output_type": "execute_result"
    }
   ],
   "source": [
    "t[0]"
   ]
  },
  {
   "cell_type": "code",
   "execution_count": 79,
   "id": "46521521",
   "metadata": {},
   "outputs": [],
   "source": [
    "my_list[0] =\"NEw\""
   ]
  },
  {
   "cell_type": "code",
   "execution_count": 80,
   "id": "d87b2140",
   "metadata": {},
   "outputs": [
    {
     "data": {
      "text/plain": [
       "['NEw', 2, 3]"
      ]
     },
     "execution_count": 80,
     "metadata": {},
     "output_type": "execute_result"
    }
   ],
   "source": [
    "my_list"
   ]
  },
  {
   "cell_type": "code",
   "execution_count": 81,
   "id": "51c2fe0c",
   "metadata": {},
   "outputs": [],
   "source": [
    "# t[0] = \"NeW\"  # immutable can't change"
   ]
  },
  {
   "cell_type": "markdown",
   "id": "904353e9",
   "metadata": {},
   "source": [
    "## Set (can't contain duplicate, It is Order)"
   ]
  },
  {
   "cell_type": "code",
   "execution_count": 82,
   "id": "7086cfe4",
   "metadata": {},
   "outputs": [
    {
     "data": {
      "text/plain": [
       "{1, 2, 3}"
      ]
     },
     "execution_count": 82,
     "metadata": {},
     "output_type": "execute_result"
    }
   ],
   "source": [
    "{1,2,3}"
   ]
  },
  {
   "cell_type": "code",
   "execution_count": 83,
   "id": "02f4b953",
   "metadata": {},
   "outputs": [
    {
     "data": {
      "text/plain": [
       "{1, 2, 3, 4, 5, 6}"
      ]
     },
     "execution_count": 83,
     "metadata": {},
     "output_type": "execute_result"
    }
   ],
   "source": [
    "{1,1,1,2,2,3,4,5,6}"
   ]
  },
  {
   "cell_type": "code",
   "execution_count": 84,
   "id": "c533d669",
   "metadata": {},
   "outputs": [
    {
     "data": {
      "text/plain": [
       "{1, 2, 3, 4, 5, 9, 10}"
      ]
     },
     "execution_count": 84,
     "metadata": {},
     "output_type": "execute_result"
    }
   ],
   "source": [
    "set([1,10,1,1,1,1,2,2,2,2,3,3,3,5,5,5,4,9,4,])"
   ]
  },
  {
   "cell_type": "code",
   "execution_count": 85,
   "id": "ff59ea30",
   "metadata": {},
   "outputs": [],
   "source": [
    "s = {1,2,3}"
   ]
  },
  {
   "cell_type": "code",
   "execution_count": 86,
   "id": "1348282c",
   "metadata": {},
   "outputs": [],
   "source": [
    "# add use add element int the set\n",
    "s.add(2.2)"
   ]
  },
  {
   "cell_type": "code",
   "execution_count": 87,
   "id": "1e1759ba",
   "metadata": {},
   "outputs": [
    {
     "data": {
      "text/plain": [
       "{1, 2, 2.2, 3}"
      ]
     },
     "execution_count": 87,
     "metadata": {},
     "output_type": "execute_result"
    }
   ],
   "source": [
    "s"
   ]
  },
  {
   "cell_type": "code",
   "execution_count": 88,
   "id": "f8241a19",
   "metadata": {},
   "outputs": [],
   "source": [
    "s.add(4)"
   ]
  },
  {
   "cell_type": "code",
   "execution_count": 89,
   "id": "90e20777",
   "metadata": {},
   "outputs": [
    {
     "data": {
      "text/plain": [
       "{1, 2, 2.2, 3, 4}"
      ]
     },
     "execution_count": 89,
     "metadata": {},
     "output_type": "execute_result"
    }
   ],
   "source": [
    "s"
   ]
  },
  {
   "cell_type": "code",
   "execution_count": 90,
   "id": "e222c1c2",
   "metadata": {},
   "outputs": [
    {
     "data": {
      "text/plain": [
       "False"
      ]
     },
     "execution_count": 90,
     "metadata": {},
     "output_type": "execute_result"
    }
   ],
   "source": [
    "1 > 2"
   ]
  },
  {
   "cell_type": "code",
   "execution_count": 91,
   "id": "3d31192f",
   "metadata": {},
   "outputs": [
    {
     "data": {
      "text/plain": [
       "True"
      ]
     },
     "execution_count": 91,
     "metadata": {},
     "output_type": "execute_result"
    }
   ],
   "source": [
    "1<2\n"
   ]
  },
  {
   "cell_type": "code",
   "execution_count": 92,
   "id": "dac9f665",
   "metadata": {},
   "outputs": [
    {
     "data": {
      "text/plain": [
       "False"
      ]
     },
     "execution_count": 92,
     "metadata": {},
     "output_type": "execute_result"
    }
   ],
   "source": [
    " 1>=2"
   ]
  },
  {
   "cell_type": "code",
   "execution_count": 93,
   "id": "bf89cabb",
   "metadata": {},
   "outputs": [
    {
     "data": {
      "text/plain": [
       "True"
      ]
     },
     "execution_count": 93,
     "metadata": {},
     "output_type": "execute_result"
    }
   ],
   "source": [
    "1<=1"
   ]
  },
  {
   "cell_type": "code",
   "execution_count": 94,
   "id": "3771f7e9",
   "metadata": {},
   "outputs": [
    {
     "data": {
      "text/plain": [
       "True"
      ]
     },
     "execution_count": 94,
     "metadata": {},
     "output_type": "execute_result"
    }
   ],
   "source": [
    "1==1"
   ]
  },
  {
   "cell_type": "code",
   "execution_count": 95,
   "id": "64afb444",
   "metadata": {},
   "outputs": [
    {
     "data": {
      "text/plain": [
       "True"
      ]
     },
     "execution_count": 95,
     "metadata": {},
     "output_type": "execute_result"
    }
   ],
   "source": [
    "1!=3"
   ]
  },
  {
   "cell_type": "code",
   "execution_count": 96,
   "id": "dbe4aedc",
   "metadata": {},
   "outputs": [
    {
     "data": {
      "text/plain": [
       "False"
      ]
     },
     "execution_count": 96,
     "metadata": {},
     "output_type": "execute_result"
    }
   ],
   "source": [
    "'hi'=='by'"
   ]
  },
  {
   "cell_type": "code",
   "execution_count": 97,
   "id": "9aa32818",
   "metadata": {},
   "outputs": [
    {
     "data": {
      "text/plain": [
       "True"
      ]
     },
     "execution_count": 97,
     "metadata": {},
     "output_type": "execute_result"
    }
   ],
   "source": [
    "'hi' != 'by'"
   ]
  },
  {
   "cell_type": "markdown",
   "id": "0d8f48c3",
   "metadata": {},
   "source": [
    "## IF Statement"
   ]
  },
  {
   "cell_type": "code",
   "execution_count": 98,
   "id": "2e37dbab",
   "metadata": {},
   "outputs": [
    {
     "data": {
      "text/plain": [
       "True"
      ]
     },
     "execution_count": 98,
     "metadata": {},
     "output_type": "execute_result"
    }
   ],
   "source": [
    "(1 < 2) and (2 < 3)"
   ]
  },
  {
   "cell_type": "code",
   "execution_count": 99,
   "id": "bc2bef37",
   "metadata": {},
   "outputs": [
    {
     "data": {
      "text/plain": [
       "True"
      ]
     },
     "execution_count": 99,
     "metadata": {},
     "output_type": "execute_result"
    }
   ],
   "source": [
    "(1 < 2) or (2 > 3) or (1 == 1)"
   ]
  },
  {
   "cell_type": "code",
   "execution_count": 100,
   "id": "3ad6fa09",
   "metadata": {},
   "outputs": [
    {
     "data": {
      "text/plain": [
       "True"
      ]
     },
     "execution_count": 100,
     "metadata": {},
     "output_type": "execute_result"
    }
   ],
   "source": [
    "True and True"
   ]
  },
  {
   "cell_type": "code",
   "execution_count": 101,
   "id": "780d1097",
   "metadata": {},
   "outputs": [
    {
     "data": {
      "text/plain": [
       "False"
      ]
     },
     "execution_count": 101,
     "metadata": {},
     "output_type": "execute_result"
    }
   ],
   "source": [
    "True and False"
   ]
  },
  {
   "cell_type": "code",
   "execution_count": 102,
   "id": "e846ea83",
   "metadata": {},
   "outputs": [
    {
     "data": {
      "text/plain": [
       "True"
      ]
     },
     "execution_count": 102,
     "metadata": {},
     "output_type": "execute_result"
    }
   ],
   "source": [
    "True or True"
   ]
  },
  {
   "cell_type": "code",
   "execution_count": 103,
   "id": "6b7b60c9",
   "metadata": {},
   "outputs": [
    {
     "data": {
      "text/plain": [
       "True"
      ]
     },
     "execution_count": 103,
     "metadata": {},
     "output_type": "execute_result"
    }
   ],
   "source": [
    "True or False"
   ]
  },
  {
   "cell_type": "code",
   "execution_count": 104,
   "id": "d9fe28d6",
   "metadata": {},
   "outputs": [
    {
     "name": "stdout",
     "output_type": "stream",
     "text": [
      "yep!\n"
     ]
    }
   ],
   "source": [
    "if 1<2:\n",
    "    print('yep!')"
   ]
  },
  {
   "cell_type": "code",
   "execution_count": 105,
   "id": "a7a028ed",
   "metadata": {},
   "outputs": [],
   "source": [
    "if True:\n",
    "    x = 2+2"
   ]
  },
  {
   "cell_type": "code",
   "execution_count": 106,
   "id": "fb7ae91f",
   "metadata": {},
   "outputs": [
    {
     "data": {
      "text/plain": [
       "4"
      ]
     },
     "execution_count": 106,
     "metadata": {},
     "output_type": "execute_result"
    }
   ],
   "source": [
    "x"
   ]
  },
  {
   "cell_type": "code",
   "execution_count": 107,
   "id": "ee6d09cd",
   "metadata": {},
   "outputs": [
    {
     "name": "stdout",
     "output_type": "stream",
     "text": [
      "second\n"
     ]
    }
   ],
   "source": [
    "if 1 ==2 :\n",
    "    print('first')\n",
    "elif 4 == 4:\n",
    "    print('second')\n",
    "elif 3==3:\n",
    "    print('middle')\n",
    "else:\n",
    "    print('last')"
   ]
  },
  {
   "cell_type": "markdown",
   "id": "22fd0375",
   "metadata": {},
   "source": [
    "# For Loop"
   ]
  },
  {
   "cell_type": "code",
   "execution_count": 108,
   "id": "320916a5",
   "metadata": {},
   "outputs": [],
   "source": [
    "seq = [1,2,3,4,5]"
   ]
  },
  {
   "cell_type": "code",
   "execution_count": 109,
   "id": "32386c3e",
   "metadata": {},
   "outputs": [
    {
     "name": "stdout",
     "output_type": "stream",
     "text": [
      "hello\n",
      "hello\n",
      "hello\n",
      "hello\n",
      "hello\n"
     ]
    }
   ],
   "source": [
    "for item in seq:\n",
    "    print('hello')"
   ]
  },
  {
   "cell_type": "markdown",
   "id": "ab419bac",
   "metadata": {},
   "source": [
    "## While loop"
   ]
  },
  {
   "cell_type": "code",
   "execution_count": 110,
   "id": "1e7e39c5",
   "metadata": {},
   "outputs": [
    {
     "name": "stdout",
     "output_type": "stream",
     "text": [
      "i is: 1\n",
      "i is: 2\n",
      "i is: 3\n",
      "i is: 4\n"
     ]
    }
   ],
   "source": [
    "i = 1 \n",
    "\n",
    "while i<5:\n",
    "    print('i is: {}'.format(i))\n",
    "    i=i+1"
   ]
  },
  {
   "cell_type": "code",
   "execution_count": 111,
   "id": "89ced6c2",
   "metadata": {},
   "outputs": [
    {
     "name": "stdout",
     "output_type": "stream",
     "text": [
      "1\n",
      "2\n",
      "3\n",
      "4\n",
      "5\n"
     ]
    }
   ],
   "source": [
    "for x in seq:\n",
    "    print(x)"
   ]
  },
  {
   "cell_type": "markdown",
   "id": "fe256d59",
   "metadata": {},
   "source": [
    "## Range()"
   ]
  },
  {
   "cell_type": "code",
   "execution_count": 112,
   "id": "02e9135d",
   "metadata": {},
   "outputs": [
    {
     "data": {
      "text/plain": [
       "[0, 1, 2, 3, 4]"
      ]
     },
     "execution_count": 112,
     "metadata": {},
     "output_type": "execute_result"
    }
   ],
   "source": [
    "list(range(0,5))"
   ]
  },
  {
   "cell_type": "code",
   "execution_count": 113,
   "id": "917465e4",
   "metadata": {},
   "outputs": [
    {
     "name": "stdout",
     "output_type": "stream",
     "text": [
      "0\n",
      "1\n",
      "2\n",
      "3\n",
      "4\n"
     ]
    }
   ],
   "source": [
    "for x in range(0,5):\n",
    "    print(x)"
   ]
  },
  {
   "cell_type": "code",
   "execution_count": 114,
   "id": "32958e82",
   "metadata": {},
   "outputs": [
    {
     "data": {
      "text/plain": [
       "{0, 1, 2, 3, 4}"
      ]
     },
     "execution_count": 114,
     "metadata": {},
     "output_type": "execute_result"
    }
   ],
   "source": [
    "set(range(0,5))"
   ]
  },
  {
   "cell_type": "code",
   "execution_count": 115,
   "id": "6486dca7",
   "metadata": {},
   "outputs": [
    {
     "data": {
      "text/plain": [
       "(0, 1, 2, 3, 4)"
      ]
     },
     "execution_count": 115,
     "metadata": {},
     "output_type": "execute_result"
    }
   ],
   "source": [
    "tuple(range(0,5))"
   ]
  },
  {
   "cell_type": "code",
   "execution_count": 116,
   "id": "1b25f4a4",
   "metadata": {},
   "outputs": [
    {
     "data": {
      "text/plain": [
       "[0, 1, 2, 3, 4, 5, 6, 7, 8, 9]"
      ]
     },
     "execution_count": 116,
     "metadata": {},
     "output_type": "execute_result"
    }
   ],
   "source": [
    "list(range(10))"
   ]
  },
  {
   "cell_type": "markdown",
   "id": "b794f74a",
   "metadata": {},
   "source": [
    "## List Comprehension"
   ]
  },
  {
   "cell_type": "code",
   "execution_count": 117,
   "id": "d570acbf",
   "metadata": {},
   "outputs": [],
   "source": [
    "x = [1,2,3,4,5]"
   ]
  },
  {
   "cell_type": "code",
   "execution_count": 118,
   "id": "0497bf93",
   "metadata": {},
   "outputs": [],
   "source": [
    "out = []\n",
    "for num in x:\n",
    "    out.append(num ** 2)"
   ]
  },
  {
   "cell_type": "code",
   "execution_count": 119,
   "id": "16516951",
   "metadata": {},
   "outputs": [
    {
     "name": "stdout",
     "output_type": "stream",
     "text": [
      "[1, 4, 9, 16, 25]\n"
     ]
    }
   ],
   "source": [
    "print(out)"
   ]
  },
  {
   "cell_type": "code",
   "execution_count": 120,
   "id": "8dd66aac",
   "metadata": {},
   "outputs": [
    {
     "data": {
      "text/plain": [
       "[1, 4, 9, 16, 25]"
      ]
     },
     "execution_count": 120,
     "metadata": {},
     "output_type": "execute_result"
    }
   ],
   "source": [
    "out = [i ** 2 for i in x ]\n",
    "out"
   ]
  },
  {
   "cell_type": "markdown",
   "id": "94091c22",
   "metadata": {},
   "source": [
    "## Function"
   ]
  },
  {
   "cell_type": "code",
   "execution_count": 121,
   "id": "88b6bcfe",
   "metadata": {},
   "outputs": [],
   "source": [
    "def my_fun(name='Default Name'):\n",
    "    print('hello '+name)"
   ]
  },
  {
   "cell_type": "code",
   "execution_count": 122,
   "id": "e2edcb69",
   "metadata": {},
   "outputs": [
    {
     "name": "stdout",
     "output_type": "stream",
     "text": [
      "hello Raju\n"
     ]
    }
   ],
   "source": [
    "# name = input(\"Enter your name :\")\n",
    "my_fun('Raju')"
   ]
  },
  {
   "cell_type": "code",
   "execution_count": 123,
   "id": "41cc1e51",
   "metadata": {},
   "outputs": [
    {
     "name": "stdout",
     "output_type": "stream",
     "text": [
      "hello Default Name\n"
     ]
    }
   ],
   "source": [
    "my_fun()"
   ]
  },
  {
   "cell_type": "code",
   "execution_count": 124,
   "id": "c9f470d5",
   "metadata": {},
   "outputs": [],
   "source": [
    "# using shift + tab is use to show the comment\n",
    "\n",
    "def square(num):\n",
    "    \"\"\"\n",
    "    This is simple function\n",
    "    \"\"\"\n",
    "    return num ** 2"
   ]
  },
  {
   "cell_type": "code",
   "execution_count": 125,
   "id": "07c969d5",
   "metadata": {},
   "outputs": [
    {
     "data": {
      "text/plain": [
       "9"
      ]
     },
     "execution_count": 125,
     "metadata": {},
     "output_type": "execute_result"
    }
   ],
   "source": [
    "square(3)"
   ]
  },
  {
   "cell_type": "code",
   "execution_count": 126,
   "id": "b98d6901",
   "metadata": {},
   "outputs": [
    {
     "name": "stdout",
     "output_type": "stream",
     "text": [
      "Help on function square in module __main__:\n",
      "\n",
      "square(num)\n",
      "    This is simple function\n",
      "\n"
     ]
    }
   ],
   "source": [
    "help(square)"
   ]
  },
  {
   "cell_type": "code",
   "execution_count": 127,
   "id": "226c4b30",
   "metadata": {},
   "outputs": [
    {
     "data": {
      "text/plain": [
       "<function __main__.square(num)>"
      ]
     },
     "execution_count": 127,
     "metadata": {},
     "output_type": "execute_result"
    }
   ],
   "source": [
    "square"
   ]
  },
  {
   "cell_type": "code",
   "execution_count": 128,
   "id": "c2449a25",
   "metadata": {},
   "outputs": [
    {
     "data": {
      "text/plain": [
       "range"
      ]
     },
     "execution_count": 128,
     "metadata": {},
     "output_type": "execute_result"
    }
   ],
   "source": [
    "range"
   ]
  },
  {
   "cell_type": "markdown",
   "id": "cd2d245c",
   "metadata": {},
   "source": [
    "## Lambda()"
   ]
  },
  {
   "cell_type": "code",
   "execution_count": 129,
   "id": "c1abfa61",
   "metadata": {},
   "outputs": [],
   "source": [
    "t = lambda var: var*2"
   ]
  },
  {
   "cell_type": "markdown",
   "id": "5b92b8c2",
   "metadata": {},
   "source": [
    "## map()    , lambda()  , filter()"
   ]
  },
  {
   "cell_type": "code",
   "execution_count": 131,
   "id": "bcc40770",
   "metadata": {},
   "outputs": [],
   "source": [
    "seq = [1,2,3,4,5]"
   ]
  },
  {
   "cell_type": "code",
   "execution_count": 132,
   "id": "68c4c637",
   "metadata": {},
   "outputs": [
    {
     "data": {
      "text/plain": [
       "[3, 6, 9, 12, 15]"
      ]
     },
     "execution_count": 132,
     "metadata": {},
     "output_type": "execute_result"
    }
   ],
   "source": [
    "list(map(lambda num : num*3,seq))"
   ]
  },
  {
   "cell_type": "code",
   "execution_count": 133,
   "id": "6c583b1c",
   "metadata": {},
   "outputs": [
    {
     "data": {
      "text/plain": [
       "10"
      ]
     },
     "execution_count": 133,
     "metadata": {},
     "output_type": "execute_result"
    }
   ],
   "source": [
    "t(5)"
   ]
  },
  {
   "cell_type": "code",
   "execution_count": 134,
   "id": "ed70333c",
   "metadata": {},
   "outputs": [
    {
     "data": {
      "text/plain": [
       "[2, 4]"
      ]
     },
     "execution_count": 134,
     "metadata": {},
     "output_type": "execute_result"
    }
   ],
   "source": [
    "list(filter(lambda num:num%2 == 0,seq))"
   ]
  },
  {
   "cell_type": "code",
   "execution_count": 135,
   "id": "63b29cfd",
   "metadata": {},
   "outputs": [],
   "source": [
    "s = 'hello my name is Sam'"
   ]
  },
  {
   "cell_type": "code",
   "execution_count": 136,
   "id": "25570761",
   "metadata": {},
   "outputs": [
    {
     "data": {
      "text/plain": [
       "'HELLO MY NAME IS sAM'"
      ]
     },
     "execution_count": 136,
     "metadata": {},
     "output_type": "execute_result"
    }
   ],
   "source": [
    "s.swapcase()"
   ]
  },
  {
   "cell_type": "code",
   "execution_count": 137,
   "id": "92531e0e",
   "metadata": {},
   "outputs": [
    {
     "data": {
      "text/plain": [
       "'hello my name is sam'"
      ]
     },
     "execution_count": 137,
     "metadata": {},
     "output_type": "execute_result"
    }
   ],
   "source": [
    "s.lower()"
   ]
  },
  {
   "cell_type": "code",
   "execution_count": 138,
   "id": "08baff84",
   "metadata": {},
   "outputs": [
    {
     "data": {
      "text/plain": [
       "'HELLO MY NAME IS SAM'"
      ]
     },
     "execution_count": 138,
     "metadata": {},
     "output_type": "execute_result"
    }
   ],
   "source": [
    "s.upper()"
   ]
  },
  {
   "cell_type": "code",
   "execution_count": 139,
   "id": "de7d372a",
   "metadata": {},
   "outputs": [
    {
     "data": {
      "text/plain": [
       "['hello', 'my', 'name', 'is', 'Sam']"
      ]
     },
     "execution_count": 139,
     "metadata": {},
     "output_type": "execute_result"
    }
   ],
   "source": [
    "s.split()"
   ]
  },
  {
   "cell_type": "code",
   "execution_count": 140,
   "id": "e108a7ad",
   "metadata": {},
   "outputs": [],
   "source": [
    "tweet = 'Go Sports! #Sports'"
   ]
  },
  {
   "cell_type": "code",
   "execution_count": 141,
   "id": "c88aeb25",
   "metadata": {},
   "outputs": [
    {
     "data": {
      "text/plain": [
       "'Sports'"
      ]
     },
     "execution_count": 141,
     "metadata": {},
     "output_type": "execute_result"
    }
   ],
   "source": [
    "tweet.split('#')[1]"
   ]
  },
  {
   "cell_type": "code",
   "execution_count": 147,
   "id": "4612ef98",
   "metadata": {},
   "outputs": [],
   "source": [
    "d = {'k1':1,'k2':2}"
   ]
  },
  {
   "cell_type": "code",
   "execution_count": 148,
   "id": "094cd2cb",
   "metadata": {},
   "outputs": [
    {
     "data": {
      "text/plain": [
       "{'k1': 1, 'k2': 2}"
      ]
     },
     "execution_count": 148,
     "metadata": {},
     "output_type": "execute_result"
    }
   ],
   "source": [
    "d"
   ]
  },
  {
   "cell_type": "code",
   "execution_count": 149,
   "id": "f26c62ed",
   "metadata": {},
   "outputs": [
    {
     "data": {
      "text/plain": [
       "dict_keys(['k1', 'k2'])"
      ]
     },
     "execution_count": 149,
     "metadata": {},
     "output_type": "execute_result"
    }
   ],
   "source": [
    "d.keys()"
   ]
  },
  {
   "cell_type": "code",
   "execution_count": 150,
   "id": "4b231e07",
   "metadata": {},
   "outputs": [
    {
     "data": {
      "text/plain": [
       "dict_values([1, 2])"
      ]
     },
     "execution_count": 150,
     "metadata": {},
     "output_type": "execute_result"
    }
   ],
   "source": [
    "d.values()"
   ]
  },
  {
   "cell_type": "code",
   "execution_count": 151,
   "id": "e9585ef4",
   "metadata": {},
   "outputs": [
    {
     "data": {
      "text/plain": [
       "dict_items([('k1', 1), ('k2', 2)])"
      ]
     },
     "execution_count": 151,
     "metadata": {},
     "output_type": "execute_result"
    }
   ],
   "source": [
    "d.items()"
   ]
  },
  {
   "cell_type": "code",
   "execution_count": 152,
   "id": "fc2602bc",
   "metadata": {},
   "outputs": [],
   "source": [
    "lst = [1,2,3]"
   ]
  },
  {
   "cell_type": "code",
   "execution_count": 155,
   "id": "c303ee91",
   "metadata": {},
   "outputs": [
    {
     "data": {
      "text/plain": [
       "[3, 2, 1]"
      ]
     },
     "execution_count": 155,
     "metadata": {},
     "output_type": "execute_result"
    }
   ],
   "source": [
    "lst.reverse()\n",
    "lst"
   ]
  },
  {
   "cell_type": "code",
   "execution_count": 156,
   "id": "d5c9a141",
   "metadata": {},
   "outputs": [
    {
     "data": {
      "text/plain": [
       "5"
      ]
     },
     "execution_count": 156,
     "metadata": {},
     "output_type": "execute_result"
    }
   ],
   "source": [
    "item"
   ]
  },
  {
   "cell_type": "code",
   "execution_count": 157,
   "id": "8a000e47",
   "metadata": {},
   "outputs": [],
   "source": [
    "first = lst.pop(0)"
   ]
  },
  {
   "cell_type": "code",
   "execution_count": 158,
   "id": "6cd4c07e",
   "metadata": {},
   "outputs": [
    {
     "data": {
      "text/plain": [
       "3"
      ]
     },
     "execution_count": 158,
     "metadata": {},
     "output_type": "execute_result"
    }
   ],
   "source": [
    "first"
   ]
  },
  {
   "cell_type": "code",
   "execution_count": 159,
   "id": "e73823fe",
   "metadata": {},
   "outputs": [
    {
     "data": {
      "text/plain": [
       "False"
      ]
     },
     "execution_count": 159,
     "metadata": {},
     "output_type": "execute_result"
    }
   ],
   "source": [
    "'x' in [1,2,3]"
   ]
  },
  {
   "cell_type": "code",
   "execution_count": 160,
   "id": "6b4085da",
   "metadata": {},
   "outputs": [
    {
     "data": {
      "text/plain": [
       "True"
      ]
     },
     "execution_count": 160,
     "metadata": {},
     "output_type": "execute_result"
    }
   ],
   "source": [
    "'x' in ['x','y','z']"
   ]
  },
  {
   "cell_type": "code",
   "execution_count": 161,
   "id": "fd874c06",
   "metadata": {},
   "outputs": [],
   "source": [
    "x = [(1,2),(3,4),(5,6)]"
   ]
  },
  {
   "cell_type": "code",
   "execution_count": 166,
   "id": "08165e67",
   "metadata": {},
   "outputs": [
    {
     "data": {
      "text/plain": [
       "3"
      ]
     },
     "execution_count": 166,
     "metadata": {},
     "output_type": "execute_result"
    }
   ],
   "source": [
    "x[1][0]"
   ]
  },
  {
   "cell_type": "code",
   "execution_count": 167,
   "id": "a58aef1d",
   "metadata": {},
   "outputs": [
    {
     "name": "stdout",
     "output_type": "stream",
     "text": [
      "(1, 2)\n",
      "(3, 4)\n",
      "(5, 6)\n"
     ]
    }
   ],
   "source": [
    "for item in x:\n",
    "    print(item)"
   ]
  },
  {
   "cell_type": "code",
   "execution_count": 171,
   "id": "6169abe0",
   "metadata": {},
   "outputs": [
    {
     "name": "stdout",
     "output_type": "stream",
     "text": [
      "1\n",
      "2\n",
      "3\n",
      "4\n",
      "5\n",
      "6\n"
     ]
    }
   ],
   "source": [
    "for a,b in x:\n",
    "    print(a)\n",
    "    print(b)"
   ]
  },
  {
   "cell_type": "markdown",
   "id": "72e6ee20",
   "metadata": {},
   "source": [
    "# Excersize"
   ]
  },
  {
   "cell_type": "code",
   "execution_count": 172,
   "id": "f7ed5498",
   "metadata": {},
   "outputs": [
    {
     "data": {
      "text/plain": [
       "2401"
      ]
     },
     "execution_count": 172,
     "metadata": {},
     "output_type": "execute_result"
    }
   ],
   "source": [
    "# what is 7 to the power of 4? \n",
    "7**4"
   ]
  },
  {
   "cell_type": "code",
   "execution_count": 174,
   "id": "6403b4b9",
   "metadata": {},
   "outputs": [
    {
     "data": {
      "text/plain": [
       "['Hi', 'there', 'Sam!']"
      ]
     },
     "execution_count": 174,
     "metadata": {},
     "output_type": "execute_result"
    }
   ],
   "source": [
    "# Spit this string s= \"Hi there Sam!\" into a list\n",
    "s = 'Hi there Sam!'.split()\n",
    "s"
   ]
  },
  {
   "cell_type": "code",
   "execution_count": 206,
   "id": "76f08540",
   "metadata": {},
   "outputs": [
    {
     "name": "stdout",
     "output_type": "stream",
     "text": [
      "The diameter of Earth is 12742 kilometers.\n"
     ]
    }
   ],
   "source": [
    "planet = \"Earth\"\n",
    "diameter = 12742\n",
    "\n",
    "print(f'The diameter of {planet} is {diameter} kilometers.')"
   ]
  },
  {
   "cell_type": "code",
   "execution_count": 209,
   "id": "95ec67ba",
   "metadata": {},
   "outputs": [],
   "source": [
    "d = {'k1':[1,2,3,{'tricky':['oh','man','inception',{'target':[1,2,3,'hello']}]}]}"
   ]
  },
  {
   "cell_type": "code",
   "execution_count": 215,
   "id": "640a952f",
   "metadata": {},
   "outputs": [
    {
     "data": {
      "text/plain": [
       "'hello'"
      ]
     },
     "execution_count": 215,
     "metadata": {},
     "output_type": "execute_result"
    }
   ],
   "source": [
    "d['k1'][3]['tricky'][3]['target'][3]"
   ]
  },
  {
   "cell_type": "code",
   "execution_count": 208,
   "id": "82bbc4ee",
   "metadata": {},
   "outputs": [
    {
     "data": {
      "text/plain": [
       "'hello'"
      ]
     },
     "execution_count": 208,
     "metadata": {},
     "output_type": "execute_result"
    }
   ],
   "source": [
    "lst = [1,2,[3,4],[5,[100,200,['hello']],23,11],17]\n",
    "lst[3][1][2][0]"
   ]
  },
  {
   "cell_type": "code",
   "execution_count": 175,
   "id": "207eb8b9",
   "metadata": {},
   "outputs": [],
   "source": [
    "# main difference between tuple and list\n",
    "# => The Tuple in immutable (can't change)\n",
    "# => list is mutable"
   ]
  },
  {
   "cell_type": "code",
   "execution_count": 181,
   "id": "5a6f24e5",
   "metadata": {},
   "outputs": [],
   "source": [
    "def domainGet(email):\n",
    "    return email.split('@')[1]"
   ]
  },
  {
   "cell_type": "code",
   "execution_count": 183,
   "id": "00994916",
   "metadata": {},
   "outputs": [
    {
     "data": {
      "text/plain": [
       "'gmail.com'"
      ]
     },
     "execution_count": 183,
     "metadata": {},
     "output_type": "execute_result"
    }
   ],
   "source": [
    "email = 'vishalwagmare@gmail.com'\n",
    "domainGet(email)"
   ]
  },
  {
   "cell_type": "code",
   "execution_count": 218,
   "id": "24e91fc3",
   "metadata": {},
   "outputs": [
    {
     "name": "stdout",
     "output_type": "stream",
     "text": [
      "True\n",
      "2\n"
     ]
    }
   ],
   "source": [
    "def check(string):\n",
    "        return 'dog' in string.lower().split()\n",
    "    \n",
    "string = 'This dog runs faster than the other dog dude!'\n",
    "mycheck = check(string)\n",
    "print(mycheck)\n",
    "mycount=string.count('dog')\n",
    "print(mycount)"
   ]
  },
  {
   "cell_type": "code",
   "execution_count": 219,
   "id": "3146fe33",
   "metadata": {},
   "outputs": [
    {
     "data": {
      "text/plain": [
       "['soup', 'salad']"
      ]
     },
     "execution_count": 219,
     "metadata": {},
     "output_type": "execute_result"
    }
   ],
   "source": [
    "seq = ['soup','dog','salad','cat','great']\n",
    "list(filter(lambda x : x[0]=='s',seq))\n"
   ]
  },
  {
   "cell_type": "code",
   "execution_count": 204,
   "id": "258af8e4",
   "metadata": {},
   "outputs": [
    {
     "name": "stdout",
     "output_type": "stream",
     "text": [
      "Enter the speed of bike : 95\n",
      "Big Ticket\n"
     ]
    },
    {
     "data": {
      "text/plain": [
       "95"
      ]
     },
     "execution_count": 204,
     "metadata": {},
     "output_type": "execute_result"
    }
   ],
   "source": [
    "def speed_limit(speed,is_birthday):\n",
    "    if birthday == True:\n",
    "        speed=speed-5\n",
    "        \n",
    "    if speed <= 60:\n",
    "        print(\"No Ticket\")\n",
    "    elif 61<=speed and speed<=80:\n",
    "        print('Small Ticket')\n",
    "    else:\n",
    "        print('Big Ticket')\n",
    "    \n",
    "    return speed\n",
    "    \n",
    "        \n",
    "speed = int(input(\"Enter the speed of bike : \"))\n",
    "birthday= False\n",
    "speed_limit(speed,birthday)"
   ]
  },
  {
   "cell_type": "code",
   "execution_count": null,
   "id": "bc0c3f99",
   "metadata": {},
   "outputs": [],
   "source": []
  }
 ],
 "metadata": {
  "kernelspec": {
   "display_name": "Python 3",
   "language": "python",
   "name": "python3"
  },
  "language_info": {
   "codemirror_mode": {
    "name": "ipython",
    "version": 3
   },
   "file_extension": ".py",
   "mimetype": "text/x-python",
   "name": "python",
   "nbconvert_exporter": "python",
   "pygments_lexer": "ipython3",
   "version": "3.8.8"
  }
 },
 "nbformat": 4,
 "nbformat_minor": 5
}
